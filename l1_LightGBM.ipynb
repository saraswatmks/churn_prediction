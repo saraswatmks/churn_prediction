{
 "cells": [
  {
   "cell_type": "code",
   "execution_count": 2,
   "metadata": {
    "collapsed": false
   },
   "outputs": [],
   "source": [
    "import numpy as np\n",
    "import pandas as pd\n",
    "import zipfile as zp\n",
    "pd.set_option('display.max_columns', 1000)\n",
    "from myfeatures import engineer\n",
    "from myfeatures2 import engineer2\n",
    "import warnings\n",
    "warnings.filterwarnings(\"ignore\")\n",
    "from sklearn.preprocessing import LabelEncoder\n",
    "import xgboost as xgb"
   ]
  },
  {
   "cell_type": "markdown",
   "metadata": {},
   "source": [
    "### Try LightGBM"
   ]
  },
  {
   "cell_type": "code",
   "execution_count": 24,
   "metadata": {
    "collapsed": true
   },
   "outputs": [],
   "source": [
    "import pickle"
   ]
  },
  {
   "cell_type": "code",
   "execution_count": 19,
   "metadata": {
    "collapsed": false
   },
   "outputs": [],
   "source": [
    "train = pd.read_pickle('papa_train.pkl')\n",
    "test = pd.read_pickle('papa_test.pkl')"
   ]
  },
  {
   "cell_type": "code",
   "execution_count": 20,
   "metadata": {
    "collapsed": true
   },
   "outputs": [],
   "source": [
    "del train, test"
   ]
  },
  {
   "cell_type": "code",
   "execution_count": 10,
   "metadata": {
    "collapsed": false
   },
   "outputs": [
    {
     "name": "stdout",
     "output_type": "stream",
     "text": [
      "(300000, 521)\n",
      "(200000, 520)\n"
     ]
    }
   ],
   "source": [
    "print(train.shape)\n",
    "print(test.shape)"
   ]
  },
  {
   "cell_type": "code",
   "execution_count": 4,
   "metadata": {
    "collapsed": true
   },
   "outputs": [],
   "source": [
    "feature_names = [col for col in train.columns if col not in ['UCIC_ID','Responders']]\n",
    "target = train['Responders']"
   ]
  },
  {
   "cell_type": "code",
   "execution_count": 5,
   "metadata": {
    "collapsed": true
   },
   "outputs": [],
   "source": [
    "from sklearn.model_selection import train_test_split\n",
    "X_train, X_valid, y_train, y_valid = train_test_split(train, target, test_size = 0.3, stratify = target)"
   ]
  },
  {
   "cell_type": "code",
   "execution_count": 6,
   "metadata": {
    "collapsed": true
   },
   "outputs": [],
   "source": [
    "import lightgbm as lgb"
   ]
  },
  {
   "cell_type": "code",
   "execution_count": 7,
   "metadata": {
    "collapsed": false
   },
   "outputs": [],
   "source": [
    "ltrain = lgb.Dataset(X_train[feature_names], label=y_train)\n",
    "lvalid = lgb.Dataset(X_valid[feature_names], label=y_valid)"
   ]
  },
  {
   "cell_type": "code",
   "execution_count": 8,
   "metadata": {
    "collapsed": false
   },
   "outputs": [],
   "source": [
    "paramslgb = {\n",
    "    \n",
    "    'learning_rate':0.1,\n",
    "    'max_depth':6,\n",
    "    'boosting':'dart',\n",
    "    'objective':'binary',\n",
    "    'metric':'auc',\n",
    "    'seed':2017,\n",
    "    'feature_fraction':1,\n",
    "    'bagging_fraction':1,\n",
    "    'num_leaves':30,\n",
    "    'lambda_l1':16,\n",
    "    'lambda_l2':16\n",
    "}"
   ]
  },
  {
   "cell_type": "code",
   "execution_count": 11,
   "metadata": {
    "collapsed": false,
    "scrolled": true
   },
   "outputs": [
    {
     "name": "stdout",
     "output_type": "stream",
     "text": [
      "Train until valid scores didn't improve in 40 rounds.\n",
      "[20]\tvalid_0's auc: 0.840819\n",
      "[40]\tvalid_0's auc: 0.847633\n",
      "[60]\tvalid_0's auc: 0.852485\n",
      "[80]\tvalid_0's auc: 0.855439\n",
      "[100]\tvalid_0's auc: 0.856508\n"
     ]
    }
   ],
   "source": [
    "mod1 = lgb.train(paramslgb, ltrain, num_boost_round=100, valid_sets=lvalid, verbose_eval=20, early_stopping_rounds=40)"
   ]
  },
  {
   "cell_type": "code",
   "execution_count": 15,
   "metadata": {
    "collapsed": false
   },
   "outputs": [
    {
     "data": {
      "text/plain": [
       "0"
      ]
     },
     "execution_count": 15,
     "metadata": {},
     "output_type": "execute_result"
    }
   ],
   "source": [
    "mod1.best_iteration"
   ]
  },
  {
   "cell_type": "code",
   "execution_count": 90,
   "metadata": {
    "collapsed": true
   },
   "outputs": [],
   "source": [
    "pred = mod1.predict(test[feature_names])"
   ]
  },
  {
   "cell_type": "code",
   "execution_count": 95,
   "metadata": {
    "collapsed": false
   },
   "outputs": [],
   "source": [
    "sub = pd.read_csv('sample_submission_fBo3EW5.csv')\n",
    "sub['UCIC_ID'] = test['UCIC_ID']\n",
    "sub['Responders'] = pred"
   ]
  },
  {
   "cell_type": "code",
   "execution_count": 96,
   "metadata": {
    "collapsed": true
   },
   "outputs": [],
   "source": [
    "sub.to_csv('submissions/lgb_forest.csv', index=False) ## 0.68245125"
   ]
  },
  {
   "cell_type": "code",
   "execution_count": null,
   "metadata": {
    "collapsed": true
   },
   "outputs": [],
   "source": []
  },
  {
   "cell_type": "markdown",
   "metadata": {},
   "source": [
    "### LightGBM - 2 (Tuning)"
   ]
  },
  {
   "cell_type": "code",
   "execution_count": 105,
   "metadata": {
    "collapsed": true
   },
   "outputs": [],
   "source": [
    "paramslgb = {\n",
    "    \n",
    "    'learning_rate':0.1,\n",
    "    'max_depth':4,\n",
    "    'boosting':'dart',\n",
    "    'objective':'binary',\n",
    "    'metric':'auc',\n",
    "    'seed':2017,\n",
    "    'feature_fraction':0.9,\n",
    "    'bagging_fraction':0.9,\n",
    "    'num_leaves':30\n",
    "#     'lambda_l1':16,\n",
    "#     'lambda_l2':16\n",
    "}"
   ]
  },
  {
   "cell_type": "code",
   "execution_count": 106,
   "metadata": {
    "collapsed": false,
    "scrolled": true
   },
   "outputs": [
    {
     "name": "stdout",
     "output_type": "stream",
     "text": [
      "Train until valid scores didn't improve in 40 rounds.\n",
      "[20]\tvalid_0's auc: 0.838126\n",
      "[40]\tvalid_0's auc: 0.841155\n",
      "[60]\tvalid_0's auc: 0.846211\n",
      "[80]\tvalid_0's auc: 0.84912\n",
      "[100]\tvalid_0's auc: 0.851312\n",
      "[120]\tvalid_0's auc: 0.852827\n",
      "[140]\tvalid_0's auc: 0.854367\n",
      "[160]\tvalid_0's auc: 0.856813\n",
      "[180]\tvalid_0's auc: 0.858489\n",
      "[200]\tvalid_0's auc: 0.861245\n",
      "[220]\tvalid_0's auc: 0.862738\n",
      "[240]\tvalid_0's auc: 0.863574\n",
      "[260]\tvalid_0's auc: 0.863941\n",
      "[280]\tvalid_0's auc: 0.864526\n",
      "[300]\tvalid_0's auc: 0.865103\n",
      "[320]\tvalid_0's auc: 0.865259\n",
      "[340]\tvalid_0's auc: 0.865534\n",
      "[360]\tvalid_0's auc: 0.865968\n",
      "[380]\tvalid_0's auc: 0.866088\n",
      "[400]\tvalid_0's auc: 0.866567\n",
      "[420]\tvalid_0's auc: 0.866799\n",
      "[440]\tvalid_0's auc: 0.866854\n",
      "[460]\tvalid_0's auc: 0.867041\n",
      "[480]\tvalid_0's auc: 0.867158\n",
      "[500]\tvalid_0's auc: 0.867477\n",
      "[520]\tvalid_0's auc: 0.867699\n",
      "[540]\tvalid_0's auc: 0.867862\n",
      "[560]\tvalid_0's auc: 0.86795\n",
      "[580]\tvalid_0's auc: 0.868069\n",
      "[600]\tvalid_0's auc: 0.868115\n",
      "[620]\tvalid_0's auc: 0.868123\n",
      "[640]\tvalid_0's auc: 0.868346\n",
      "[660]\tvalid_0's auc: 0.868533\n",
      "[680]\tvalid_0's auc: 0.868588\n",
      "[700]\tvalid_0's auc: 0.868654\n",
      "[720]\tvalid_0's auc: 0.868751\n",
      "[740]\tvalid_0's auc: 0.868935\n",
      "[760]\tvalid_0's auc: 0.869102\n",
      "[780]\tvalid_0's auc: 0.869165\n",
      "[800]\tvalid_0's auc: 0.869279\n",
      "[820]\tvalid_0's auc: 0.86931\n",
      "[840]\tvalid_0's auc: 0.869341\n",
      "[860]\tvalid_0's auc: 0.869334\n",
      "[880]\tvalid_0's auc: 0.869488\n",
      "[900]\tvalid_0's auc: 0.86948\n",
      "[920]\tvalid_0's auc: 0.869549\n",
      "[940]\tvalid_0's auc: 0.869624\n",
      "[960]\tvalid_0's auc: 0.869672\n",
      "[980]\tvalid_0's auc: 0.869601\n",
      "Early stopping, best iteration is:\n",
      "[955]\tvalid_0's auc: 0.869701\n"
     ]
    }
   ],
   "source": [
    "mod1 = lgb.train(paramslgb, ltrain, num_boost_round=1000, valid_sets=lvalid, verbose_eval=20, early_stopping_rounds=40)"
   ]
  },
  {
   "cell_type": "code",
   "execution_count": null,
   "metadata": {
    "collapsed": true
   },
   "outputs": [],
   "source": []
  },
  {
   "cell_type": "code",
   "execution_count": null,
   "metadata": {
    "collapsed": true
   },
   "outputs": [],
   "source": []
  },
  {
   "cell_type": "markdown",
   "metadata": {},
   "source": [
    "## Keras "
   ]
  },
  {
   "cell_type": "code",
   "execution_count": 134,
   "metadata": {
    "collapsed": false
   },
   "outputs": [],
   "source": [
    "from keras.models import Sequential\n",
    "from keras.layers.core import Dense, Dropout, Activation\n",
    "from keras.utils import np_utils\n",
    "from keras.optimizers import SGD, Adadelta, Adagrad\n",
    "from keras.regularizers import l1, l2, l1_l2\n",
    "from keras.callbacks import EarlyStopping"
   ]
  },
  {
   "cell_type": "code",
   "execution_count": 135,
   "metadata": {
    "collapsed": false
   },
   "outputs": [],
   "source": [
    "def build_model(tr):\n",
    "    \n",
    "    input_dim = tr.shape[0]\n",
    "    classes = 2\n",
    "    \n",
    "    model = Sequential()\n",
    "    model.add(Dense(64, input_shape = (input_dim, )))\n",
    "    model.add(Activation('relu'))\n",
    "    model.add(Dropout(0.1))\n",
    "    model.add(Dense(30, init = 'glorot_uniform', W_regularizer = l1(1e-6)))\n",
    "    model.add(Activation('relu'))\n",
    "    model.add(Dropout(0.4))\n",
    "\n",
    "    model.add(Dense(classes))\n",
    "    model.add(Activation('sigmoid'))\n",
    "    model.compile(loss = 'binary_crossentropy', optimizer='adagrad')\n",
    "    return model\n",
    "\n",
    "callback = EarlyStopping(monitor='val_acc',patience=3)"
   ]
  },
  {
   "cell_type": "code",
   "execution_count": 148,
   "metadata": {
    "collapsed": true
   },
   "outputs": [],
   "source": [
    "# model architechture\n",
    "def keras_model(train):\n",
    "    \n",
    "    input_dim = train.shape[1]\n",
    "    classes = 2\n",
    "    \n",
    "    model = Sequential()\n",
    "    model.add(Dense(100, activation = 'relu', input_shape = (input_dim,))) #layer 1\n",
    "    model.add(Dense(30, activation = 'relu')) #layer 2\n",
    "    model.add(Dense(classes, activation = 'sigmoid')) #output\n",
    "    model.compile(optimizer = 'adam', loss='binary_crossentropy')\n",
    "    return model\n",
    "\n",
    "callback = EarlyStopping(monitor='val_acc',patience=3)"
   ]
  },
  {
   "cell_type": "code",
   "execution_count": 149,
   "metadata": {
    "collapsed": true
   },
   "outputs": [],
   "source": [
    "ky_train = np_utils.to_categorical(np.array(y_train))\n",
    "ky_valid = np_utils.to_categorical(np.array(y_valid))"
   ]
  },
  {
   "cell_type": "code",
   "execution_count": 118,
   "metadata": {
    "collapsed": true
   },
   "outputs": [],
   "source": [
    "nb_epoch = 120\n",
    "nb_batch_size = 8"
   ]
  },
  {
   "cell_type": "code",
   "execution_count": 152,
   "metadata": {
    "collapsed": false
   },
   "outputs": [],
   "source": [
    "model = keras_model(X_train)"
   ]
  },
  {
   "cell_type": "code",
   "execution_count": 150,
   "metadata": {
    "collapsed": true
   },
   "outputs": [],
   "source": [
    "X_train = np.matrix(X_train[feature_names])\n",
    "X_valid = np.matrix(X_valid[feature_names])"
   ]
  },
  {
   "cell_type": "code",
   "execution_count": null,
   "metadata": {
    "collapsed": true
   },
   "outputs": [],
   "source": [
    "from sklearn.metrics import roc_auc_score\n",
    "from keras.callbacks import Callback\n",
    "\n",
    "\n",
    "class IntervalEvaluation(Callback):\n",
    "    def __init__(self, validation_data=(), interval=10):\n",
    "        super(Callback, self).__init__()\n",
    "\n",
    "        self.interval = interval\n",
    "        self.X_val, self.y_val = validation_data\n",
    "\n",
    "    def on_epoch_end(self, epoch, logs={}):\n",
    "        if epoch % self.interval == 0:\n",
    "            y_pred = self.model.predict_proba(self.X_val, verbose=0)\n",
    "            score = roc_auc_score(self.y_val, y_pred)\n",
    "            logging.info(\"interval evaluation - epoch: {:d} - score: {:.6f}\".format(epoch, score))\n"
   ]
  },
  {
   "cell_type": "code",
   "execution_count": null,
   "metadata": {
    "collapsed": true
   },
   "outputs": [],
   "source": [
    "ival = IntervalEvaluation(validation_data=(X_test, y_test), interval=10)"
   ]
  },
  {
   "cell_type": "code",
   "execution_count": null,
   "metadata": {
    "collapsed": true
   },
   "outputs": [],
   "source": [
    "model.fit(X_train, ky_train, batch_size=32,epochs=nb_epoch, callbacks=[ival])"
   ]
  },
  {
   "cell_type": "markdown",
   "metadata": {},
   "source": [
    "### XGB Stacker"
   ]
  },
  {
   "cell_type": "code",
   "execution_count": null,
   "metadata": {
    "collapsed": true
   },
   "outputs": [],
   "source": [
    "from sklearn.model_selection import StratifiedKFold\n",
    "n_folds = 5\n",
    "skf = StratifiedKFold(n_splits = n_folds, random_state=420)"
   ]
  },
  {
   "cell_type": "code",
   "execution_count": null,
   "metadata": {
    "collapsed": false
   },
   "outputs": [],
   "source": [
    "def xgbStackerModel(train, test, target, features):\n",
    "    \n",
    "    oof_pred = pd.DataFrame({'UCIC_ID':train['UCIC_ID'], 'Responders':0})\n",
    "    all_predictions = pd.DataFrame()\n",
    "    \n",
    "    increase = True\n",
    "    best_rounds = []\n",
    "    \n",
    "    for i, (train_index, valid_index) in enumerate(skf.split(train, target)):\n",
    "        print('[{}/{} Folds]'.format(i+1, n_folds))\n",
    "        \n",
    "        X_train, X_valid = train.iloc[train_index], train.iloc[valid_index]\n",
    "        y_train, y_valid = target.iloc[train_index], target.iloc[valid_index]\n",
    "        \n",
    "        \n",
    "        if increase:\n",
    "            pos = pd.Series(target == 1)\n",
    "            \n",
    "            X_train = pd.concat([X_train, X_train[pos]], axis=0)\n",
    "            y_train = pd.concat([y_train, y_train[pos]], axis=0)\n",
    "            \n",
    "            idx = np.arange(len(X_train))\n",
    "            np.random.shuffle(idx)\n",
    "            \n",
    "            X_train = X_train.iloc[idx]\n",
    "            y_train = y_train.iloc[idx]\n",
    "            \n",
    "        dtrain = xgb.DMatrix(X_train[features], y_train, missing=np.nan)\n",
    "        dvalid = xgb.DMatrix(X_valid[features], y_valid, missing=np.nan)\n",
    "        dtest = xgb.DMatrix(test[features])\n",
    "            \n",
    "        watchlist = [(dtrain, 'train'),(dvalid, 'valid')]\n",
    "        clf1 = xgb.train(params, dtrain, num_boost_round=1000, evals=watchlist, maximize=True, verbose_eval=20, early_stopping_rounds=40)    \n",
    "        \n",
    "        best_rounds.append(clf1.best_iteration)\n",
    "        \n",
    "        preds1 = clf1.predict(dvalid)\n",
    "        oof_pred.loc[valid_index, 'Responders'] = preds1\n",
    "        \n",
    "        \n",
    "    ## for test, predict on whole data\n",
    "    Ndtrain = xgb.DMatrix(data=train[features], label = target, missing=np.nan)\n",
    "    \n",
    "    n_round = int(np.round(np.mean(best_rounds)))\n",
    "    clf2 = xgb.train(params, Ndtrain, n_round)\n",
    "    preds2 = clf2.predict(dtest)\n",
    "    \n",
    "    all_predictions['pred' + str(i)] = preds2\n",
    "    \n",
    "    return oof_pred, all_predictions"
   ]
  },
  {
   "cell_type": "code",
   "execution_count": null,
   "metadata": {
    "collapsed": false,
    "scrolled": true
   },
   "outputs": [],
   "source": [
    "oof_train, test_pred = xgbStackerModel(train, test, target, feature_names)"
   ]
  },
  {
   "cell_type": "code",
   "execution_count": null,
   "metadata": {
    "collapsed": false
   },
   "outputs": [],
   "source": [
    "test_pred['UCIC_ID'] = test['UCIC_ID']\n",
    "test_pred.rename(columns = {'pred4':'Responders'}, inplace=True)"
   ]
  },
  {
   "cell_type": "code",
   "execution_count": null,
   "metadata": {
    "collapsed": true
   },
   "outputs": [],
   "source": [
    "oof_train.to_csv('l1/xgb_train.csv', index=False)\n",
    "test_pred.to_csv('l1/xgb_test.csv', index=False)"
   ]
  },
  {
   "cell_type": "code",
   "execution_count": null,
   "metadata": {
    "collapsed": true
   },
   "outputs": [],
   "source": []
  }
 ],
 "metadata": {
  "kernelspec": {
   "display_name": "Python 3",
   "language": "python",
   "name": "python3"
  },
  "language_info": {
   "codemirror_mode": {
    "name": "ipython",
    "version": 3
   },
   "file_extension": ".py",
   "mimetype": "text/x-python",
   "name": "python",
   "nbconvert_exporter": "python",
   "pygments_lexer": "ipython3",
   "version": "3.5.2"
  }
 },
 "nbformat": 4,
 "nbformat_minor": 2
}
