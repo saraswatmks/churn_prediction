{
 "cells": [
  {
   "cell_type": "code",
   "execution_count": 2,
   "metadata": {
    "collapsed": true
   },
   "outputs": [],
   "source": [
    "import numpy as np\n",
    "import pandas as pd\n",
    "import zipfile as zp"
   ]
  },
  {
   "cell_type": "code",
   "execution_count": 3,
   "metadata": {
    "collapsed": false
   },
   "outputs": [
    {
     "name": "stderr",
     "output_type": "stream",
     "text": [
      "/home/manish/anaconda2/envs/py35/lib/python3.5/site-packages/IPython/core/interactiveshell.py:2717: DtypeWarning: Columns (294,299,300,302,307,313,315,365,367,369) have mixed types. Specify dtype option on import or set low_memory=False.\n",
      "  interactivity=interactivity, compiler=compiler, result=result)\n",
      "/home/manish/anaconda2/envs/py35/lib/python3.5/site-packages/IPython/core/interactiveshell.py:2717: DtypeWarning: Columns (294,299,300,302,313,315,365,367,369) have mixed types. Specify dtype option on import or set low_memory=False.\n",
      "  interactivity=interactivity, compiler=compiler, result=result)\n"
     ]
    }
   ],
   "source": [
    "with zp.ZipFile('train_zsTMYVA.zip','r') as tr, zp.ZipFile('test_9tJUnaB.zip', 'r') as te:\n",
    "    train = pd.read_csv(tr.open(tr.namelist()[0]))\n",
    "    test = pd.read_csv(te.open(te.namelist()[0]))"
   ]
  },
  {
   "cell_type": "code",
   "execution_count": 4,
   "metadata": {
    "collapsed": true
   },
   "outputs": [],
   "source": [
    "## submit l1 predictions and check score\n",
    "\n",
    "dart = pd.read_csv('l1/lgbDart_test.csv')\n",
    "dart['UCIC_ID'] = test['UCIC_ID']\n",
    "dart.rename(columns={'pred4':'Responders'}, inplace=True)\n",
    "dart.to_csv('submissions/dart.csv', index=False) # 0.6852367688"
   ]
  },
  {
   "cell_type": "code",
   "execution_count": 12,
   "metadata": {
    "collapsed": false
   },
   "outputs": [],
   "source": [
    "tree = pd.read_csv('l1/lgbTree_test.csv')\n",
    "tree['UCIC_ID'] = test['UCIC_ID']\n",
    "tree.rename(columns={'pred4':'Responders'}, inplace=True)\n",
    "tree.to_csv('submissions/tree.csv', index=False) ## 0.6850"
   ]
  },
  {
   "cell_type": "code",
   "execution_count": 16,
   "metadata": {
    "collapsed": false
   },
   "outputs": [],
   "source": [
    "reg = pd.read_csv('l1/xgbLR_test.csv')\n",
    "reg['UCIC_ID'] = test['UCIC_ID']\n",
    "reg.rename(columns = {'pred4':'Responders'}, inplace=True)\n",
    "reg.to_csv('submissions/regression.csv', index=False) ## 0.6262"
   ]
  },
  {
   "cell_type": "code",
   "execution_count": 23,
   "metadata": {
    "collapsed": false
   },
   "outputs": [],
   "source": [
    "fore = pd.read_csv('l1/xgbRF_test.csv')\n",
    "fore['UCIC_ID'] = test['UCIC_ID']\n",
    "fore.rename(columns = {'pred4':'Responders'}, inplace=True)\n",
    "fore.to_csv('submissions/forest.csv', index=False) ## 0.6819"
   ]
  },
  {
   "cell_type": "code",
   "execution_count": 24,
   "metadata": {
    "collapsed": true
   },
   "outputs": [],
   "source": [
    "xgtree = pd.read_csv('l1/xgbTree_test.csv')\n",
    "xgtree['UCIC_ID'] = test['UCIC_ID']\n",
    "xgtree.rename(columns = {'pred4':'Responders'}, inplace=True)\n",
    "xgtree.to_csv('submissions/xgtree.csv', index=False) ## 0.6808"
   ]
  },
  {
   "cell_type": "code",
   "execution_count": 29,
   "metadata": {
    "collapsed": false
   },
   "outputs": [],
   "source": [
    "### simple mean\n",
    "cal = (dart['Responders'] + tree['Responders'] + reg['Responders'] + fore['Responders'] + xgtree['Responders'])/5"
   ]
  },
  {
   "cell_type": "code",
   "execution_count": 33,
   "metadata": {
    "collapsed": true
   },
   "outputs": [],
   "source": [
    "aver = pd.DataFrame({'UCIC_ID':test['UCIC_ID'], 'Responders':cal})\n",
    "aver.to_csv('submissions/bagging_l1_preds.csv', index=False) #0.68535"
   ]
  },
  {
   "cell_type": "code",
   "execution_count": 37,
   "metadata": {
    "collapsed": true
   },
   "outputs": [],
   "source": [
    "### weighted_average\n",
    "wei = (dart['Responders']*0.30 + tree['Responders']*0.30 + reg['Responders']*0.05 + fore['Responders']*0.20 + xgtree['Responders']*0.15)"
   ]
  },
  {
   "cell_type": "code",
   "execution_count": 38,
   "metadata": {
    "collapsed": true
   },
   "outputs": [],
   "source": [
    "we_ave = pd.DataFrame({'UCIC_ID':test['UCIC_ID'], 'Responders':wei})\n",
    "we_ave.to_csv('submissions/weiave_l1_preds.csv', index=False) ## 0.6852"
   ]
  },
  {
   "cell_type": "code",
   "execution_count": 41,
   "metadata": {
    "collapsed": true
   },
   "outputs": [],
   "source": [
    "## geometric mean\n",
    "from scipy.stats.mstats import gmean"
   ]
  },
  {
   "cell_type": "code",
   "execution_count": 58,
   "metadata": {
    "collapsed": false
   },
   "outputs": [],
   "source": [
    "res = pd.DataFrame({'r1':dart['Responders'],'r2':tree['Responders'],'r3':reg['Responders'],'r4':fore['Responders'], 'r5':xgtree['Responders']})"
   ]
  },
  {
   "cell_type": "code",
   "execution_count": 59,
   "metadata": {
    "collapsed": false
   },
   "outputs": [],
   "source": [
    "res['Responders'] = gmean(res, axis=1)"
   ]
  },
  {
   "cell_type": "code",
   "execution_count": 61,
   "metadata": {
    "collapsed": true
   },
   "outputs": [],
   "source": [
    "res = pd.DataFrame({'UCIC_ID':test['UCIC_ID'], 'Responders':res['Responders']})"
   ]
  },
  {
   "cell_type": "code",
   "execution_count": 63,
   "metadata": {
    "collapsed": true
   },
   "outputs": [],
   "source": [
    "res.to_csv('submissions/geomean_l1_preds.csv', index=False) # 0.68431"
   ]
  },
  {
   "cell_type": "markdown",
   "metadata": {},
   "source": [
    "### Lets build models on L1 preds"
   ]
  },
  {
   "cell_type": "code",
   "execution_count": 168,
   "metadata": {
    "collapsed": true
   },
   "outputs": [],
   "source": [
    "train = pd.read_pickle('papa_train.pkl')\n",
    "test = pd.read_pickle('papa_test.pkl')"
   ]
  },
  {
   "cell_type": "code",
   "execution_count": 173,
   "metadata": {
    "collapsed": false
   },
   "outputs": [],
   "source": [
    "test = test.reset_index(drop=True)"
   ]
  },
  {
   "cell_type": "code",
   "execution_count": 177,
   "metadata": {
    "collapsed": true
   },
   "outputs": [],
   "source": [
    "## add predictions in train and test\n",
    "train['pred_dart'] = pd.read_csv('l1/lgbDart_train.csv', usecols=['Responders'])['Responders']\n",
    "train['pred_tree'] = pd.read_csv('l1/lgbTree_train.csv', usecols=['Responders'])['Responders']\n",
    "train['pred_reg'] = pd.read_csv('l1/xgbLR_train.csv', usecols=['Responders'])['Responders']\n",
    "train['pred_fore'] = pd.read_csv('l1/xgbRF_train.csv', usecols=['Responders'])['Responders']\n",
    "train['pred_xgtree'] = pd.read_csv('l1/xgbTree_train.csv', usecols=['Responders'])['Responders']"
   ]
  },
  {
   "cell_type": "code",
   "execution_count": 178,
   "metadata": {
    "collapsed": true
   },
   "outputs": [],
   "source": [
    "test['pred_dart'] = dart['Responders']\n",
    "test['pred_tree'] = tree['Responders']\n",
    "test['pred_reg'] =  reg['Responders']\n",
    "test['pred_fore'] = fore['Responders']\n",
    "test['pred_xgtree'] = xgtree['Responders']"
   ]
  },
  {
   "cell_type": "code",
   "execution_count": 208,
   "metadata": {
    "collapsed": true
   },
   "outputs": [],
   "source": [
    "## write pred data separately\n",
    "train_pred = train.loc[:,['pred_dart','pred_tree','pred_reg','pred_fore','pred_xgtree']]\n",
    "test_pred = test.loc[:,['pred_dart','pred_tree','pred_reg','pred_fore','pred_xgtree']]"
   ]
  },
  {
   "cell_type": "code",
   "execution_count": 211,
   "metadata": {
    "collapsed": true
   },
   "outputs": [],
   "source": [
    "train_pred.to_csv('train_pred.csv', index=False)\n",
    "test_pred.to_csv('test_pred.csv', index=False)"
   ]
  },
  {
   "cell_type": "code",
   "execution_count": 179,
   "metadata": {
    "collapsed": false
   },
   "outputs": [
    {
     "data": {
      "text/html": [
       "<div>\n",
       "<table border=\"1\" class=\"dataframe\">\n",
       "  <thead>\n",
       "    <tr style=\"text-align: right;\">\n",
       "      <th></th>\n",
       "      <th>AGRI_Closed_PrevQ1</th>\n",
       "      <th>AGRI_DATE</th>\n",
       "      <th>AGRI_PREM_CLOSED_PREVQ1</th>\n",
       "      <th>AGRI_TAG_LIVE</th>\n",
       "      <th>AL_CNC_Closed_PrevQ1</th>\n",
       "      <th>AL_CNC_DATE</th>\n",
       "      <th>AL_CNC_PREM_CLOSED_PREVQ1</th>\n",
       "      <th>AL_CNC_TAG_LIVE</th>\n",
       "      <th>AL_Closed_PrevQ1</th>\n",
       "      <th>AL_DATE</th>\n",
       "      <th>...</th>\n",
       "      <th>pca_10</th>\n",
       "      <th>tsvd_10</th>\n",
       "      <th>ica_10</th>\n",
       "      <th>grp_10</th>\n",
       "      <th>srp_10</th>\n",
       "      <th>pred_dart</th>\n",
       "      <th>pred_tree</th>\n",
       "      <th>pred_reg</th>\n",
       "      <th>pred_fore</th>\n",
       "      <th>pred_xgtree</th>\n",
       "    </tr>\n",
       "  </thead>\n",
       "  <tbody>\n",
       "    <tr>\n",
       "      <th>0</th>\n",
       "      <td>-1.0</td>\n",
       "      <td>-1.0</td>\n",
       "      <td>-1.0</td>\n",
       "      <td>-1.0</td>\n",
       "      <td>-1.0</td>\n",
       "      <td>-1.0</td>\n",
       "      <td>-1.0</td>\n",
       "      <td>-1.0</td>\n",
       "      <td>-1.0</td>\n",
       "      <td>-1.0</td>\n",
       "      <td>...</td>\n",
       "      <td>-1.463040</td>\n",
       "      <td>-1.258798</td>\n",
       "      <td>0.001182</td>\n",
       "      <td>-0.546541</td>\n",
       "      <td>-5.128583</td>\n",
       "      <td>0.298309</td>\n",
       "      <td>0.311703</td>\n",
       "      <td>0.500039</td>\n",
       "      <td>0.321626</td>\n",
       "      <td>0.282638</td>\n",
       "    </tr>\n",
       "    <tr>\n",
       "      <th>1</th>\n",
       "      <td>-1.0</td>\n",
       "      <td>-1.0</td>\n",
       "      <td>-1.0</td>\n",
       "      <td>-1.0</td>\n",
       "      <td>-1.0</td>\n",
       "      <td>-1.0</td>\n",
       "      <td>-1.0</td>\n",
       "      <td>-1.0</td>\n",
       "      <td>-1.0</td>\n",
       "      <td>-1.0</td>\n",
       "      <td>...</td>\n",
       "      <td>4.736117</td>\n",
       "      <td>4.788461</td>\n",
       "      <td>0.001884</td>\n",
       "      <td>-28.458333</td>\n",
       "      <td>13.682360</td>\n",
       "      <td>0.121993</td>\n",
       "      <td>0.073490</td>\n",
       "      <td>0.018189</td>\n",
       "      <td>0.117408</td>\n",
       "      <td>0.105152</td>\n",
       "    </tr>\n",
       "    <tr>\n",
       "      <th>2</th>\n",
       "      <td>-1.0</td>\n",
       "      <td>-1.0</td>\n",
       "      <td>-1.0</td>\n",
       "      <td>-1.0</td>\n",
       "      <td>-1.0</td>\n",
       "      <td>-1.0</td>\n",
       "      <td>-1.0</td>\n",
       "      <td>-1.0</td>\n",
       "      <td>-1.0</td>\n",
       "      <td>-1.0</td>\n",
       "      <td>...</td>\n",
       "      <td>0.173977</td>\n",
       "      <td>0.514187</td>\n",
       "      <td>-0.000799</td>\n",
       "      <td>3.003399</td>\n",
       "      <td>-3.222910</td>\n",
       "      <td>0.845566</td>\n",
       "      <td>0.902196</td>\n",
       "      <td>0.613327</td>\n",
       "      <td>0.860199</td>\n",
       "      <td>0.923288</td>\n",
       "    </tr>\n",
       "    <tr>\n",
       "      <th>3</th>\n",
       "      <td>-1.0</td>\n",
       "      <td>-1.0</td>\n",
       "      <td>-1.0</td>\n",
       "      <td>-1.0</td>\n",
       "      <td>-1.0</td>\n",
       "      <td>-1.0</td>\n",
       "      <td>-1.0</td>\n",
       "      <td>-1.0</td>\n",
       "      <td>-1.0</td>\n",
       "      <td>-1.0</td>\n",
       "      <td>...</td>\n",
       "      <td>0.616949</td>\n",
       "      <td>0.631813</td>\n",
       "      <td>0.001642</td>\n",
       "      <td>0.466489</td>\n",
       "      <td>4.872285</td>\n",
       "      <td>0.072438</td>\n",
       "      <td>0.055597</td>\n",
       "      <td>0.071254</td>\n",
       "      <td>0.065348</td>\n",
       "      <td>0.051623</td>\n",
       "    </tr>\n",
       "    <tr>\n",
       "      <th>4</th>\n",
       "      <td>-1.0</td>\n",
       "      <td>-1.0</td>\n",
       "      <td>-1.0</td>\n",
       "      <td>-1.0</td>\n",
       "      <td>-1.0</td>\n",
       "      <td>-1.0</td>\n",
       "      <td>-1.0</td>\n",
       "      <td>-1.0</td>\n",
       "      <td>-1.0</td>\n",
       "      <td>-1.0</td>\n",
       "      <td>...</td>\n",
       "      <td>3.217670</td>\n",
       "      <td>3.274776</td>\n",
       "      <td>-0.002916</td>\n",
       "      <td>-0.842176</td>\n",
       "      <td>-7.854273</td>\n",
       "      <td>0.396067</td>\n",
       "      <td>0.450381</td>\n",
       "      <td>0.213564</td>\n",
       "      <td>0.440154</td>\n",
       "      <td>0.430313</td>\n",
       "    </tr>\n",
       "  </tbody>\n",
       "</table>\n",
       "<p>5 rows × 526 columns</p>\n",
       "</div>"
      ],
      "text/plain": [
       "   AGRI_Closed_PrevQ1  AGRI_DATE  AGRI_PREM_CLOSED_PREVQ1  AGRI_TAG_LIVE  \\\n",
       "0                -1.0       -1.0                     -1.0           -1.0   \n",
       "1                -1.0       -1.0                     -1.0           -1.0   \n",
       "2                -1.0       -1.0                     -1.0           -1.0   \n",
       "3                -1.0       -1.0                     -1.0           -1.0   \n",
       "4                -1.0       -1.0                     -1.0           -1.0   \n",
       "\n",
       "   AL_CNC_Closed_PrevQ1  AL_CNC_DATE  AL_CNC_PREM_CLOSED_PREVQ1  \\\n",
       "0                  -1.0         -1.0                       -1.0   \n",
       "1                  -1.0         -1.0                       -1.0   \n",
       "2                  -1.0         -1.0                       -1.0   \n",
       "3                  -1.0         -1.0                       -1.0   \n",
       "4                  -1.0         -1.0                       -1.0   \n",
       "\n",
       "   AL_CNC_TAG_LIVE  AL_Closed_PrevQ1  AL_DATE     ...         pca_10  \\\n",
       "0             -1.0              -1.0     -1.0     ...      -1.463040   \n",
       "1             -1.0              -1.0     -1.0     ...       4.736117   \n",
       "2             -1.0              -1.0     -1.0     ...       0.173977   \n",
       "3             -1.0              -1.0     -1.0     ...       0.616949   \n",
       "4             -1.0              -1.0     -1.0     ...       3.217670   \n",
       "\n",
       "    tsvd_10    ica_10     grp_10     srp_10  pred_dart  pred_tree  pred_reg  \\\n",
       "0 -1.258798  0.001182  -0.546541  -5.128583   0.298309   0.311703  0.500039   \n",
       "1  4.788461  0.001884 -28.458333  13.682360   0.121993   0.073490  0.018189   \n",
       "2  0.514187 -0.000799   3.003399  -3.222910   0.845566   0.902196  0.613327   \n",
       "3  0.631813  0.001642   0.466489   4.872285   0.072438   0.055597  0.071254   \n",
       "4  3.274776 -0.002916  -0.842176  -7.854273   0.396067   0.450381  0.213564   \n",
       "\n",
       "   pred_fore  pred_xgtree  \n",
       "0   0.321626     0.282638  \n",
       "1   0.117408     0.105152  \n",
       "2   0.860199     0.923288  \n",
       "3   0.065348     0.051623  \n",
       "4   0.440154     0.430313  \n",
       "\n",
       "[5 rows x 526 columns]"
      ]
     },
     "execution_count": 179,
     "metadata": {},
     "output_type": "execute_result"
    }
   ],
   "source": [
    "train.head()"
   ]
  },
  {
   "cell_type": "code",
   "execution_count": 180,
   "metadata": {
    "collapsed": false
   },
   "outputs": [
    {
     "data": {
      "text/html": [
       "<div>\n",
       "<table border=\"1\" class=\"dataframe\">\n",
       "  <thead>\n",
       "    <tr style=\"text-align: right;\">\n",
       "      <th></th>\n",
       "      <th>AGRI_Closed_PrevQ1</th>\n",
       "      <th>AGRI_DATE</th>\n",
       "      <th>AGRI_PREM_CLOSED_PREVQ1</th>\n",
       "      <th>AGRI_TAG_LIVE</th>\n",
       "      <th>AL_CNC_Closed_PrevQ1</th>\n",
       "      <th>AL_CNC_DATE</th>\n",
       "      <th>AL_CNC_PREM_CLOSED_PREVQ1</th>\n",
       "      <th>AL_CNC_TAG_LIVE</th>\n",
       "      <th>AL_Closed_PrevQ1</th>\n",
       "      <th>AL_DATE</th>\n",
       "      <th>...</th>\n",
       "      <th>pca_10</th>\n",
       "      <th>tsvd_10</th>\n",
       "      <th>ica_10</th>\n",
       "      <th>grp_10</th>\n",
       "      <th>srp_10</th>\n",
       "      <th>pred_dart</th>\n",
       "      <th>pred_tree</th>\n",
       "      <th>pred_reg</th>\n",
       "      <th>pred_fore</th>\n",
       "      <th>pred_xgtree</th>\n",
       "    </tr>\n",
       "  </thead>\n",
       "  <tbody>\n",
       "    <tr>\n",
       "      <th>0</th>\n",
       "      <td>-1.0</td>\n",
       "      <td>-1.0</td>\n",
       "      <td>-1.0</td>\n",
       "      <td>-1.0</td>\n",
       "      <td>-1.0</td>\n",
       "      <td>-1.0</td>\n",
       "      <td>-1.0</td>\n",
       "      <td>-1.0</td>\n",
       "      <td>-1.0</td>\n",
       "      <td>-1.0</td>\n",
       "      <td>...</td>\n",
       "      <td>-0.066166</td>\n",
       "      <td>-0.016615</td>\n",
       "      <td>-0.002190</td>\n",
       "      <td>-9.721923</td>\n",
       "      <td>0.425465</td>\n",
       "      <td>0.335778</td>\n",
       "      <td>0.350223</td>\n",
       "      <td>0.469787</td>\n",
       "      <td>0.327790</td>\n",
       "      <td>0.300304</td>\n",
       "    </tr>\n",
       "    <tr>\n",
       "      <th>1</th>\n",
       "      <td>-1.0</td>\n",
       "      <td>-1.0</td>\n",
       "      <td>-1.0</td>\n",
       "      <td>-1.0</td>\n",
       "      <td>-1.0</td>\n",
       "      <td>-1.0</td>\n",
       "      <td>-1.0</td>\n",
       "      <td>-1.0</td>\n",
       "      <td>-1.0</td>\n",
       "      <td>-1.0</td>\n",
       "      <td>...</td>\n",
       "      <td>0.313483</td>\n",
       "      <td>0.318584</td>\n",
       "      <td>-0.002919</td>\n",
       "      <td>4.005902</td>\n",
       "      <td>-0.639006</td>\n",
       "      <td>0.028943</td>\n",
       "      <td>0.023414</td>\n",
       "      <td>0.060528</td>\n",
       "      <td>0.028299</td>\n",
       "      <td>0.029012</td>\n",
       "    </tr>\n",
       "    <tr>\n",
       "      <th>2</th>\n",
       "      <td>-1.0</td>\n",
       "      <td>-1.0</td>\n",
       "      <td>-1.0</td>\n",
       "      <td>-1.0</td>\n",
       "      <td>-1.0</td>\n",
       "      <td>-1.0</td>\n",
       "      <td>-1.0</td>\n",
       "      <td>-1.0</td>\n",
       "      <td>-1.0</td>\n",
       "      <td>-1.0</td>\n",
       "      <td>...</td>\n",
       "      <td>0.665584</td>\n",
       "      <td>0.589714</td>\n",
       "      <td>0.002582</td>\n",
       "      <td>6.341306</td>\n",
       "      <td>3.805967</td>\n",
       "      <td>0.045216</td>\n",
       "      <td>0.039772</td>\n",
       "      <td>0.082668</td>\n",
       "      <td>0.041646</td>\n",
       "      <td>0.072659</td>\n",
       "    </tr>\n",
       "    <tr>\n",
       "      <th>3</th>\n",
       "      <td>-1.0</td>\n",
       "      <td>-1.0</td>\n",
       "      <td>-1.0</td>\n",
       "      <td>-1.0</td>\n",
       "      <td>-1.0</td>\n",
       "      <td>-1.0</td>\n",
       "      <td>-1.0</td>\n",
       "      <td>-1.0</td>\n",
       "      <td>-1.0</td>\n",
       "      <td>-1.0</td>\n",
       "      <td>...</td>\n",
       "      <td>3.136754</td>\n",
       "      <td>3.201557</td>\n",
       "      <td>-0.000415</td>\n",
       "      <td>-3.788141</td>\n",
       "      <td>-3.351600</td>\n",
       "      <td>0.155093</td>\n",
       "      <td>0.155252</td>\n",
       "      <td>0.439493</td>\n",
       "      <td>0.156464</td>\n",
       "      <td>0.140133</td>\n",
       "    </tr>\n",
       "    <tr>\n",
       "      <th>4</th>\n",
       "      <td>-1.0</td>\n",
       "      <td>-1.0</td>\n",
       "      <td>-1.0</td>\n",
       "      <td>-1.0</td>\n",
       "      <td>-1.0</td>\n",
       "      <td>-1.0</td>\n",
       "      <td>-1.0</td>\n",
       "      <td>-1.0</td>\n",
       "      <td>-1.0</td>\n",
       "      <td>-1.0</td>\n",
       "      <td>...</td>\n",
       "      <td>2.189452</td>\n",
       "      <td>1.852458</td>\n",
       "      <td>0.000418</td>\n",
       "      <td>-1.909757</td>\n",
       "      <td>1.098223</td>\n",
       "      <td>0.168107</td>\n",
       "      <td>0.222249</td>\n",
       "      <td>0.324906</td>\n",
       "      <td>0.223561</td>\n",
       "      <td>0.242268</td>\n",
       "    </tr>\n",
       "  </tbody>\n",
       "</table>\n",
       "<p>5 rows × 525 columns</p>\n",
       "</div>"
      ],
      "text/plain": [
       "   AGRI_Closed_PrevQ1  AGRI_DATE  AGRI_PREM_CLOSED_PREVQ1  AGRI_TAG_LIVE  \\\n",
       "0                -1.0       -1.0                     -1.0           -1.0   \n",
       "1                -1.0       -1.0                     -1.0           -1.0   \n",
       "2                -1.0       -1.0                     -1.0           -1.0   \n",
       "3                -1.0       -1.0                     -1.0           -1.0   \n",
       "4                -1.0       -1.0                     -1.0           -1.0   \n",
       "\n",
       "   AL_CNC_Closed_PrevQ1  AL_CNC_DATE  AL_CNC_PREM_CLOSED_PREVQ1  \\\n",
       "0                  -1.0         -1.0                       -1.0   \n",
       "1                  -1.0         -1.0                       -1.0   \n",
       "2                  -1.0         -1.0                       -1.0   \n",
       "3                  -1.0         -1.0                       -1.0   \n",
       "4                  -1.0         -1.0                       -1.0   \n",
       "\n",
       "   AL_CNC_TAG_LIVE  AL_Closed_PrevQ1  AL_DATE     ...         pca_10  \\\n",
       "0             -1.0              -1.0     -1.0     ...      -0.066166   \n",
       "1             -1.0              -1.0     -1.0     ...       0.313483   \n",
       "2             -1.0              -1.0     -1.0     ...       0.665584   \n",
       "3             -1.0              -1.0     -1.0     ...       3.136754   \n",
       "4             -1.0              -1.0     -1.0     ...       2.189452   \n",
       "\n",
       "    tsvd_10    ica_10    grp_10    srp_10  pred_dart  pred_tree  pred_reg  \\\n",
       "0 -0.016615 -0.002190 -9.721923  0.425465   0.335778   0.350223  0.469787   \n",
       "1  0.318584 -0.002919  4.005902 -0.639006   0.028943   0.023414  0.060528   \n",
       "2  0.589714  0.002582  6.341306  3.805967   0.045216   0.039772  0.082668   \n",
       "3  3.201557 -0.000415 -3.788141 -3.351600   0.155093   0.155252  0.439493   \n",
       "4  1.852458  0.000418 -1.909757  1.098223   0.168107   0.222249  0.324906   \n",
       "\n",
       "   pred_fore  pred_xgtree  \n",
       "0   0.327790     0.300304  \n",
       "1   0.028299     0.029012  \n",
       "2   0.041646     0.072659  \n",
       "3   0.156464     0.140133  \n",
       "4   0.223561     0.242268  \n",
       "\n",
       "[5 rows x 525 columns]"
      ]
     },
     "execution_count": 180,
     "metadata": {},
     "output_type": "execute_result"
    }
   ],
   "source": [
    "test.head()"
   ]
  },
  {
   "cell_type": "markdown",
   "metadata": {},
   "source": [
    "### Running LGBM"
   ]
  },
  {
   "cell_type": "code",
   "execution_count": 181,
   "metadata": {
    "collapsed": true
   },
   "outputs": [],
   "source": [
    "feature_names = [col for col in train.columns if col not in ['UCIC_ID','Responders']]\n",
    "target = train['Responders']"
   ]
  },
  {
   "cell_type": "code",
   "execution_count": 182,
   "metadata": {
    "collapsed": true
   },
   "outputs": [],
   "source": [
    "import lightgbm as lgb\n",
    "from sklearn.model_selection import train_test_split"
   ]
  },
  {
   "cell_type": "code",
   "execution_count": 183,
   "metadata": {
    "collapsed": true
   },
   "outputs": [],
   "source": [
    "X_train, X_valid, y_train, y_valid = train_test_split(train, target, test_size = 0.3, stratify = target)"
   ]
  },
  {
   "cell_type": "code",
   "execution_count": 184,
   "metadata": {
    "collapsed": true
   },
   "outputs": [],
   "source": [
    "ltrain = lgb.Dataset(X_train[feature_names], label=y_train)\n",
    "lvalid = lgb.Dataset(X_valid[feature_names], label=y_valid)"
   ]
  },
  {
   "cell_type": "code",
   "execution_count": 196,
   "metadata": {
    "collapsed": true
   },
   "outputs": [],
   "source": [
    "paramslgb = {  \n",
    "    'learning_rate':0.1,\n",
    "    'max_depth':7,\n",
    "    'boosting':'dart',\n",
    "    'objective':'binary',\n",
    "    'metric':'auc',\n",
    "    'seed':2017,\n",
    "    'feature_fraction':0.9,\n",
    "    'bagging_fraction':0.9,\n",
    "    'num_leaves':30\n",
    "#     'lambda_l1':16,\n",
    "#     'lambda_l2':16\n",
    "}"
   ]
  },
  {
   "cell_type": "code",
   "execution_count": 197,
   "metadata": {
    "collapsed": false
   },
   "outputs": [
    {
     "name": "stdout",
     "output_type": "stream",
     "text": [
      "Train until valid scores didn't improve in 40 rounds.\n",
      "[20]\tvalid_0's auc: 0.87213\n",
      "[40]\tvalid_0's auc: 0.87231\n",
      "[60]\tvalid_0's auc: 0.872188\n",
      "Early stopping, best iteration is:\n",
      "[38]\tvalid_0's auc: 0.872319\n"
     ]
    }
   ],
   "source": [
    "mod1 = lgb.train(paramslgb, ltrain, num_boost_round=1000, valid_sets=lvalid, verbose_eval=20, early_stopping_rounds=40)"
   ]
  },
  {
   "cell_type": "code",
   "execution_count": 198,
   "metadata": {
    "collapsed": true
   },
   "outputs": [],
   "source": [
    "ld_train = lgb.Dataset(train[feature_names], target)"
   ]
  },
  {
   "cell_type": "code",
   "execution_count": 199,
   "metadata": {
    "collapsed": false,
    "scrolled": true
   },
   "outputs": [
    {
     "name": "stdout",
     "output_type": "stream",
     "text": [
      "[20]\ttraining's auc: 0.872599\n"
     ]
    }
   ],
   "source": [
    "mod2 = lgb.train(paramslgb, ld_train, num_boost_round = mod1.best_iteration, valid_sets=ld_train, verbose_eval = 20)"
   ]
  },
  {
   "cell_type": "code",
   "execution_count": 200,
   "metadata": {
    "collapsed": false
   },
   "outputs": [],
   "source": [
    "pred = mod2.predict(test[feature_names])"
   ]
  },
  {
   "cell_type": "code",
   "execution_count": 202,
   "metadata": {
    "collapsed": false
   },
   "outputs": [
    {
     "data": {
      "text/plain": [
       "array([ 0.27192448,  0.09678881,  0.0994129 ,  0.16086624,  0.17654175,\n",
       "        0.09678881,  0.10565129,  0.09678881,  0.12271422,  0.09856992])"
      ]
     },
     "execution_count": 202,
     "metadata": {},
     "output_type": "execute_result"
    }
   ],
   "source": [
    "pred[:10]"
   ]
  },
  {
   "cell_type": "code",
   "execution_count": 203,
   "metadata": {
    "collapsed": true
   },
   "outputs": [],
   "source": [
    "sub = pd.read_csv('sample_submission_fBo3EW5.csv')\n",
    "sub['UCIC_ID'] = test['UCIC_ID']"
   ]
  },
  {
   "cell_type": "code",
   "execution_count": 205,
   "metadata": {
    "collapsed": false
   },
   "outputs": [],
   "source": [
    "sub['Responders'] = pred"
   ]
  },
  {
   "cell_type": "code",
   "execution_count": 206,
   "metadata": {
    "collapsed": false
   },
   "outputs": [
    {
     "data": {
      "text/html": [
       "<div>\n",
       "<table border=\"1\" class=\"dataframe\">\n",
       "  <thead>\n",
       "    <tr style=\"text-align: right;\">\n",
       "      <th></th>\n",
       "      <th>UCIC_ID</th>\n",
       "      <th>Responders</th>\n",
       "    </tr>\n",
       "  </thead>\n",
       "  <tbody>\n",
       "    <tr>\n",
       "      <th>0</th>\n",
       "      <td>337734</td>\n",
       "      <td>0.271924</td>\n",
       "    </tr>\n",
       "    <tr>\n",
       "      <th>1</th>\n",
       "      <td>488166</td>\n",
       "      <td>0.096789</td>\n",
       "    </tr>\n",
       "    <tr>\n",
       "      <th>2</th>\n",
       "      <td>410785</td>\n",
       "      <td>0.099413</td>\n",
       "    </tr>\n",
       "    <tr>\n",
       "      <th>3</th>\n",
       "      <td>389145</td>\n",
       "      <td>0.160866</td>\n",
       "    </tr>\n",
       "    <tr>\n",
       "      <th>4</th>\n",
       "      <td>221090</td>\n",
       "      <td>0.176542</td>\n",
       "    </tr>\n",
       "  </tbody>\n",
       "</table>\n",
       "</div>"
      ],
      "text/plain": [
       "   UCIC_ID  Responders\n",
       "0   337734    0.271924\n",
       "1   488166    0.096789\n",
       "2   410785    0.099413\n",
       "3   389145    0.160866\n",
       "4   221090    0.176542"
      ]
     },
     "execution_count": 206,
     "metadata": {},
     "output_type": "execute_result"
    }
   ],
   "source": [
    "sub.head()"
   ]
  },
  {
   "cell_type": "code",
   "execution_count": 207,
   "metadata": {
    "collapsed": true
   },
   "outputs": [],
   "source": [
    "sub.to_csv('submissions/l1_lgb_pred.csv', index=False) ## l1_Stack"
   ]
  },
  {
   "cell_type": "markdown",
   "metadata": {},
   "source": [
    "### RUN XGB"
   ]
  },
  {
   "cell_type": "code",
   "execution_count": 142,
   "metadata": {
    "collapsed": false
   },
   "outputs": [
    {
     "name": "stderr",
     "output_type": "stream",
     "text": [
      "/home/manish/anaconda2/envs/py35/lib/python3.5/site-packages/sklearn/cross_validation.py:44: DeprecationWarning: This module was deprecated in version 0.18 in favor of the model_selection module into which all the refactored classes and functions are moved. Also note that the interface of the new CV iterators are different from that of this module. This module will be removed in 0.20.\n",
      "  \"This module will be removed in 0.20.\", DeprecationWarning)\n"
     ]
    }
   ],
   "source": [
    "import xgboost as xgb"
   ]
  },
  {
   "cell_type": "code",
   "execution_count": 141,
   "metadata": {
    "collapsed": true
   },
   "outputs": [],
   "source": [
    "## default\n",
    "params = {\"objective\": \"binary:logistic\",\n",
    "          \"booster\": \"gbtree\",\n",
    "          \"nthread\": 4,\n",
    "          \"eta\": 0.1, # 0.1\n",
    "          \"max_depth\": 5, # 7\n",
    "          \"subsample\": 0.9,\n",
    "          \"colsample_bytree\": 0.7,\n",
    "          \"seed\": 2016, \n",
    "         \"eval_metric\":\"auc\"}"
   ]
  },
  {
   "cell_type": "code",
   "execution_count": 143,
   "metadata": {
    "collapsed": true
   },
   "outputs": [],
   "source": [
    "dtrain = xgb.DMatrix(X_train[feature_names], y_train, missing=-1)\n",
    "dvalid = xgb.DMatrix(X_valid[feature_names], y_valid, missing=-1)\n",
    "dtest = xgb.DMatrix(test[feature_names])"
   ]
  },
  {
   "cell_type": "code",
   "execution_count": 144,
   "metadata": {
    "collapsed": true
   },
   "outputs": [],
   "source": [
    "watchlist = [(dtrain, 'train'),(dvalid, 'valid')]"
   ]
  },
  {
   "cell_type": "code",
   "execution_count": 145,
   "metadata": {
    "collapsed": false,
    "scrolled": true
   },
   "outputs": [
    {
     "name": "stdout",
     "output_type": "stream",
     "text": [
      "[0]\ttrain-auc:0.869443\tvalid-auc:0.870315\n",
      "Multiple eval metrics have been passed: 'valid-auc' will be used for early stopping.\n",
      "\n",
      "Will train until valid-auc hasn't improved in 40 rounds.\n",
      "[20]\ttrain-auc:0.87398\tvalid-auc:0.872451\n",
      "[40]\ttrain-auc:0.876778\tvalid-auc:0.872416\n",
      "[60]\ttrain-auc:0.879685\tvalid-auc:0.872434\n",
      "[80]\ttrain-auc:0.881124\tvalid-auc:0.872345\n",
      "Stopping. Best iteration:\n",
      "[48]\ttrain-auc:0.878046\tvalid-auc:0.872561\n",
      "\n"
     ]
    }
   ],
   "source": [
    "clf1 = xgb.train(params, dtrain, num_boost_round=1000, evals=watchlist, maximize=True, verbose_eval=20, early_stopping_rounds=40)"
   ]
  },
  {
   "cell_type": "code",
   "execution_count": 146,
   "metadata": {
    "collapsed": true
   },
   "outputs": [],
   "source": [
    "predX1 = clf1.predict(dtest)"
   ]
  },
  {
   "cell_type": "code",
   "execution_count": 154,
   "metadata": {
    "collapsed": false
   },
   "outputs": [
    {
     "data": {
      "text/plain": [
       "array([ 0.18015744,  0.02319355,  0.02166098,  0.0507172 ,  0.07527688,\n",
       "        0.02685545,  0.0537979 ,  0.02310515,  0.02427379,  0.01624846], dtype=float32)"
      ]
     },
     "execution_count": 154,
     "metadata": {},
     "output_type": "execute_result"
    }
   ],
   "source": [
    "predX1[:10]"
   ]
  },
  {
   "cell_type": "code",
   "execution_count": 150,
   "metadata": {
    "collapsed": true
   },
   "outputs": [],
   "source": [
    "## now prediction on whole data\n",
    "wdtrain = xgb.DMatrix(data=train[feature_names], label=target, missing=-1)"
   ]
  },
  {
   "cell_type": "code",
   "execution_count": 151,
   "metadata": {
    "collapsed": true
   },
   "outputs": [],
   "source": [
    "clf2 = xgb.train(params, wdtrain, num_boost_round=clf1.best_iteration)"
   ]
  },
  {
   "cell_type": "code",
   "execution_count": 152,
   "metadata": {
    "collapsed": true
   },
   "outputs": [],
   "source": [
    "predX2 = clf2.predict(dtest)"
   ]
  },
  {
   "cell_type": "code",
   "execution_count": 153,
   "metadata": {
    "collapsed": false
   },
   "outputs": [
    {
     "data": {
      "text/plain": [
       "array([ 0.08134915,  0.02921624,  0.03544   ,  0.03894316,  0.06571756,\n",
       "        0.02051844,  0.03412097,  0.0323839 ,  0.0201434 ,  0.02030157], dtype=float32)"
      ]
     },
     "execution_count": 153,
     "metadata": {},
     "output_type": "execute_result"
    }
   ],
   "source": [
    "predX2[:10]"
   ]
  },
  {
   "cell_type": "code",
   "execution_count": 155,
   "metadata": {
    "collapsed": true
   },
   "outputs": [],
   "source": [
    "sub1 = pd.read_csv('sample_submission_fBo3EW5.csv')\n",
    "sub1['UCIC_ID'] = test['UCIC_ID']\n",
    "sub1['Responders'] = predX1"
   ]
  },
  {
   "cell_type": "code",
   "execution_count": 156,
   "metadata": {
    "collapsed": true
   },
   "outputs": [],
   "source": [
    "sub2 = pd.read_csv('sample_submission_fBo3EW5.csv')\n",
    "sub2['UCIC_ID'] = test['UCIC_ID']\n",
    "sub2['Responders'] = predX2"
   ]
  },
  {
   "cell_type": "code",
   "execution_count": 157,
   "metadata": {
    "collapsed": true
   },
   "outputs": [],
   "source": [
    "sub1.to_csv('submissions/xgb_l1_predX1.csv', index=False) ## 0.30\n",
    "sub2.to_csv('submissions/xgb_l1_predX2.csv', index=False) ## 0.3376"
   ]
  },
  {
   "cell_type": "code",
   "execution_count": null,
   "metadata": {
    "collapsed": true
   },
   "outputs": [],
   "source": []
  },
  {
   "cell_type": "markdown",
   "metadata": {},
   "source": [
    "### XGB Linear"
   ]
  },
  {
   "cell_type": "code",
   "execution_count": 158,
   "metadata": {
    "collapsed": true
   },
   "outputs": [],
   "source": [
    "set_params = {\"objective\": \"binary:logistic\",\n",
    "                      \"booster\": \"gblinear\",\n",
    "                      \"nthread\": 4,\n",
    "                      \"alpha\":4,\n",
    "                      \"lambda\":2,\n",
    "                      \"seed\": 2016, \n",
    "                      \"eval_metric\":\"auc\",\n",
    "                      \"silent\":1}"
   ]
  },
  {
   "cell_type": "code",
   "execution_count": 159,
   "metadata": {
    "collapsed": false
   },
   "outputs": [
    {
     "name": "stdout",
     "output_type": "stream",
     "text": [
      "[0]\ttrain-auc:0.836541\tvalid-auc:0.838063\n",
      "Multiple eval metrics have been passed: 'valid-auc' will be used for early stopping.\n",
      "\n",
      "Will train until valid-auc hasn't improved in 40 rounds.\n",
      "[20]\ttrain-auc:0.87039\tvalid-auc:0.870573\n",
      "[40]\ttrain-auc:0.870677\tvalid-auc:0.87079\n",
      "[60]\ttrain-auc:0.870731\tvalid-auc:0.8708\n",
      "[80]\ttrain-auc:0.870759\tvalid-auc:0.870776\n",
      "Stopping. Best iteration:\n",
      "[46]\ttrain-auc:0.87071\tvalid-auc:0.870827\n",
      "\n"
     ]
    }
   ],
   "source": [
    "clf1 = xgb.train(set_params, dtrain, num_boost_round=1000, evals=watchlist, maximize=True, verbose_eval=20, early_stopping_rounds=40)"
   ]
  },
  {
   "cell_type": "code",
   "execution_count": 160,
   "metadata": {
    "collapsed": true
   },
   "outputs": [],
   "source": [
    "predX1 = clf1.predict(dtest)"
   ]
  },
  {
   "cell_type": "code",
   "execution_count": null,
   "metadata": {
    "collapsed": true
   },
   "outputs": [],
   "source": []
  },
  {
   "cell_type": "code",
   "execution_count": null,
   "metadata": {
    "collapsed": true
   },
   "outputs": [],
   "source": []
  },
  {
   "cell_type": "code",
   "execution_count": null,
   "metadata": {
    "collapsed": true
   },
   "outputs": [],
   "source": []
  },
  {
   "cell_type": "code",
   "execution_count": null,
   "metadata": {
    "collapsed": true
   },
   "outputs": [],
   "source": []
  },
  {
   "cell_type": "code",
   "execution_count": null,
   "metadata": {
    "collapsed": true
   },
   "outputs": [],
   "source": []
  },
  {
   "cell_type": "code",
   "execution_count": null,
   "metadata": {
    "collapsed": true
   },
   "outputs": [],
   "source": []
  },
  {
   "cell_type": "code",
   "execution_count": null,
   "metadata": {
    "collapsed": true
   },
   "outputs": [],
   "source": []
  },
  {
   "cell_type": "code",
   "execution_count": null,
   "metadata": {
    "collapsed": true
   },
   "outputs": [],
   "source": []
  },
  {
   "cell_type": "code",
   "execution_count": null,
   "metadata": {
    "collapsed": true
   },
   "outputs": [],
   "source": []
  },
  {
   "cell_type": "code",
   "execution_count": null,
   "metadata": {
    "collapsed": true
   },
   "outputs": [],
   "source": []
  },
  {
   "cell_type": "code",
   "execution_count": null,
   "metadata": {
    "collapsed": true
   },
   "outputs": [],
   "source": []
  }
 ],
 "metadata": {
  "kernelspec": {
   "display_name": "Python 3",
   "language": "python",
   "name": "python3"
  },
  "language_info": {
   "codemirror_mode": {
    "name": "ipython",
    "version": 3
   },
   "file_extension": ".py",
   "mimetype": "text/x-python",
   "name": "python",
   "nbconvert_exporter": "python",
   "pygments_lexer": "ipython3",
   "version": "3.5.2"
  }
 },
 "nbformat": 4,
 "nbformat_minor": 2
}
